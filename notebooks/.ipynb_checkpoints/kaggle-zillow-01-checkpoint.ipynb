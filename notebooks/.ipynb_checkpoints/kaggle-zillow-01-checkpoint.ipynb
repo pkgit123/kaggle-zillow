{
 "cells": [
  {
   "cell_type": "markdown",
   "metadata": {},
   "source": [
    "# kaggle-zillow-01\n",
    "\n",
    "1. Zillow is a finished competition that opened May 24, 2017 and closed Jan 10, 2018\n",
    "> https://www.kaggle.com/c/zillow-prize-1\n",
    "1. The top-ranked kernels grandmaster right now is 'sudalairajkumar' ... Zillow is one of his kernels\n",
    "> https://www.kaggle.com/sudalairajkumar/simple-exploration-notebook-zillow-prize/notebook\n",
    "1. Follow standard process for downloading data\n",
    "> The first few lines only need to be done once (download the kaggle.json file, move and set permissions, install kaggle CLI) ... but repeating here for background information.\n",
    "```shell\n",
    "cd ~\n",
    "mkdir .kaggle  \n",
    "mv ~/Downloads/kaggle.json ~/.kaggle/kaggle.json\n",
    "cd ~/.kaggle\n",
    "subl kaggle.json\n",
    "chmod 600 ~/.kaggle/kaggle.json\n",
    "cd ~/github_repos/\n",
    "mkdir kaggle-zillow\n",
    "cd ~/github_repos/kaggle-zillow\n",
    "mkdir input\n",
    "cd ~/github_repos/kaggle-zillow/input\n",
    "pip install kaggle\n",
    "kaggle competitions download -c zillow-prize-1\n",
    "ls\n",
    "unzip '*.zip'\n",
    "rm -r __MACOSX\n",
    "rm *.zip\n",
    "ls\n",
    "cd ..\n",
    "```\n",
    "1. This notebook is in the path ~/github_repos/kaggle-zillow/notebooks\n",
    "> Start by exploring the kernel notebook published by 'sudalairajkumar'"
   ]
  },
  {
   "cell_type": "code",
   "execution_count": 6,
   "metadata": {},
   "outputs": [],
   "source": [
    "# import modules\n",
    "import numpy as np # linear algebra\n",
    "import pandas as pd # data processing, CSV file I/O (e.g. pd.read_csv)\n",
    "import matplotlib.pyplot as plt\n",
    "import seaborn as sns\n",
    "color = sns.color_palette()\n",
    "\n",
    "# jupyter notebook setting for matplotlib\n",
    "%matplotlib inline\n",
    "\n",
    "# pandas settings for warnings and column layout\n",
    "pd.options.mode.chained_assignment = None\n",
    "pd.options.display.max_columns = 999"
   ]
  },
  {
   "cell_type": "markdown",
   "metadata": {},
   "source": [
    "<br>\n",
    "Let us list the files present in the input folder.  \n",
    "<br>"
   ]
  },
  {
   "cell_type": "code",
   "execution_count": 3,
   "metadata": {},
   "outputs": [
    {
     "name": "stdout",
     "output_type": "stream",
     "text": [
      "properties_2016.csv\n",
      "properties_2017.csv\n",
      "sample_submission.csv\n",
      "train_2016_v2.csv\n",
      "train_2017.csv\n",
      "zillow_data_dictionary.xlsx\n",
      "\n"
     ]
    }
   ],
   "source": [
    "from subprocess import check_output\n",
    "print(check_output(['ls', '../input']).decode('utf8'))"
   ]
  },
  {
   "cell_type": "markdown",
   "metadata": {},
   "source": [
    "<br>\n",
    "Let's start with the train file exploration.  \n",
    "<br>"
   ]
  },
  {
   "cell_type": "code",
   "execution_count": 4,
   "metadata": {},
   "outputs": [
    {
     "data": {
      "text/plain": [
       "(90275, 3)"
      ]
     },
     "execution_count": 4,
     "metadata": {},
     "output_type": "execute_result"
    }
   ],
   "source": [
    "train_df = pd.read_csv(\"../input/train_2016_v2.csv\", parse_dates=[\"transactiondate\"])\n",
    "train_df.shape"
   ]
  },
  {
   "cell_type": "code",
   "execution_count": 5,
   "metadata": {},
   "outputs": [
    {
     "data": {
      "text/html": [
       "<div>\n",
       "<style scoped>\n",
       "    .dataframe tbody tr th:only-of-type {\n",
       "        vertical-align: middle;\n",
       "    }\n",
       "\n",
       "    .dataframe tbody tr th {\n",
       "        vertical-align: top;\n",
       "    }\n",
       "\n",
       "    .dataframe thead th {\n",
       "        text-align: right;\n",
       "    }\n",
       "</style>\n",
       "<table border=\"1\" class=\"dataframe\">\n",
       "  <thead>\n",
       "    <tr style=\"text-align: right;\">\n",
       "      <th></th>\n",
       "      <th>parcelid</th>\n",
       "      <th>logerror</th>\n",
       "      <th>transactiondate</th>\n",
       "    </tr>\n",
       "  </thead>\n",
       "  <tbody>\n",
       "    <tr>\n",
       "      <th>0</th>\n",
       "      <td>11016594</td>\n",
       "      <td>0.0276</td>\n",
       "      <td>2016-01-01</td>\n",
       "    </tr>\n",
       "    <tr>\n",
       "      <th>1</th>\n",
       "      <td>14366692</td>\n",
       "      <td>-0.1684</td>\n",
       "      <td>2016-01-01</td>\n",
       "    </tr>\n",
       "    <tr>\n",
       "      <th>2</th>\n",
       "      <td>12098116</td>\n",
       "      <td>-0.0040</td>\n",
       "      <td>2016-01-01</td>\n",
       "    </tr>\n",
       "    <tr>\n",
       "      <th>3</th>\n",
       "      <td>12643413</td>\n",
       "      <td>0.0218</td>\n",
       "      <td>2016-01-02</td>\n",
       "    </tr>\n",
       "    <tr>\n",
       "      <th>4</th>\n",
       "      <td>14432541</td>\n",
       "      <td>-0.0050</td>\n",
       "      <td>2016-01-02</td>\n",
       "    </tr>\n",
       "  </tbody>\n",
       "</table>\n",
       "</div>"
      ],
      "text/plain": [
       "   parcelid  logerror transactiondate\n",
       "0  11016594    0.0276      2016-01-01\n",
       "1  14366692   -0.1684      2016-01-01\n",
       "2  12098116   -0.0040      2016-01-01\n",
       "3  12643413    0.0218      2016-01-02\n",
       "4  14432541   -0.0050      2016-01-02"
      ]
     },
     "execution_count": 5,
     "metadata": {},
     "output_type": "execute_result"
    }
   ],
   "source": [
    "train_df.head()"
   ]
  },
  {
   "cell_type": "markdown",
   "metadata": {},
   "source": [
    "#### Logerror:\n",
    "\n",
    "Target variable for this competition is \"logerror\" field. So let us do some analysis on this field first."
   ]
  },
  {
   "cell_type": "code",
   "execution_count": 7,
   "metadata": {},
   "outputs": [
    {
     "data": {
      "image/png": "[encoded data removed]",
      "text/plain": [
       "<Figure size 576x432 with 1 Axes>"
      ]
     },
     "metadata": {},
     "output_type": "display_data"
    }
   ],
   "source": [
    "plt.figure(figsize=(8,6))\n",
    "plt.scatter(range(train_df.shape[0]), np.sort(train_df['logerror'].values))\n",
    "plt.xlabel('index', fontsize=12)\n",
    "plt.ylabel('logerror', fontsize=12)\n",
    "plt.show()"
   ]
  },
  {
   "cell_type": "markdown",
   "metadata": {},
   "source": [
    "<br>\n",
    "This looks nice with some outliers at both the ends.\n",
    "\n",
    "Let us remove the outliers and then do a histogram plot on the same.  \n",
    "<br>"
   ]
  },
  {
   "cell_type": "code",
   "execution_count": 16,
   "metadata": {
    "scrolled": false
   },
   "outputs": [
    {
     "name": "stderr",
     "output_type": "stream",
     "text": [
      "/home/peter/anaconda3/lib/python3.6/site-packages/matplotlib/axes/_axes.py:6462: UserWarning: The 'normed' kwarg is deprecated, and has been replaced by the 'density' kwarg.\n",
      "  warnings.warn(\"The 'normed' kwarg is deprecated, and has been \"\n"
     ]
    },
    {
     "data": {
      "image/png": "[encoded data removed]",
      "text/plain": [
       "<Figure size 864x576 with 1 Axes>"
      ]
     },
     "metadata": {},
     "output_type": "display_data"
    }
   ],
   "source": [
    "from scipy.stats import norm\n",
    "\n",
    "# create upper and lower limits at 1 and 99 percentile\n",
    "ulimit = np.percentile(train_df['logerror'].values, 99)\n",
    "llimit = np.percentile(train_df['logerror'].values, 1)\n",
    "\n",
    "# for values above upper limit or below lower limit, simply assign to upper and lower limit.\n",
    "# cut off the tails.\n",
    "train_df['logerror'].loc[train_df['logerror']>ulimit] = ulimit\n",
    "train_df['logerror'].loc[train_df['logerror']<llimit] = llimit\n",
    "\n",
    "# plot histogram\n",
    "plt.figure(figsize=(12,8))\n",
    "sns.distplot(train_df['logerror'], bins=50)\n",
    "plt.xlabel('logerror', fontsize=12)\n",
    "plt.show()"
   ]
  },
  {
   "cell_type": "markdown",
   "metadata": {},
   "source": [
    "<br>\n",
    "Wow. nice normal distribution on the log error.\n",
    "\n",
    "#### Transaction Date:\n",
    "\n",
    "Now let us explore the date field. Let us first check the number of transactions in each month.\n",
    "<br>"
   ]
  },
  {
   "cell_type": "code",
   "execution_count": 19,
   "metadata": {},
   "outputs": [
    {
     "data": {
      "text/plain": [
       "Text(0,0.5,'Number of Occurrences')"
      ]
     },
     "execution_count": 19,
     "metadata": {},
     "output_type": "execute_result"
    },
    {
     "data": {
      "image/png": "[encoded data removed]",
      "text/plain": [
       "<Figure size 864x432 with 1 Axes>"
      ]
     },
     "metadata": {},
     "output_type": "display_data"
    }
   ],
   "source": [
    "# create new column to track months, look for seasonality\n",
    "train_df['transaction_month'] = train_df['transactiondate'].dt.month\n",
    "\n",
    "# store the months for visualization\n",
    "cnt_srs = train_df['transaction_month'].value_counts()\n",
    "plt.figure(figsize=(12,6))\n",
    "sns.barplot(cnt_srs.index, cnt_srs.values, alpha=0.8, color=color[3])    # alpha 1.0 is opaque\n",
    "plt.xticks(rotation='vertical')\n",
    "plt.xlabel('Month of Transaction', fontsize=12)\n",
    "plt.ylabel('Number of Occurrences', fontsize=12)"
   ]
  },
  {
   "cell_type": "code",
   "execution_count": null,
   "metadata": {},
   "outputs": [],
   "source": []
  }
 ],
 "metadata": {
  "kernelspec": {
   "display_name": "Python 3",
   "language": "python",
   "name": "python3"
  },
  "language_info": {
   "codemirror_mode": {
    "name": "ipython",
    "version": 3
   },
   "file_extension": ".py",
   "mimetype": "text/x-python",
   "name": "python",
   "nbconvert_exporter": "python",
   "pygments_lexer": "ipython3",
   "version": "3.6.5"
  }
 },
 "nbformat": 4,
 "nbformat_minor": 2
}
